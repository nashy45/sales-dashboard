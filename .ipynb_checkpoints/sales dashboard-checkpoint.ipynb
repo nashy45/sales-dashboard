{
 "cells": [
  {
   "cell_type": "markdown",
   "id": "bee6fc96",
   "metadata": {},
   "source": [
    "# 📊 A Project By FOMBUTUH NADIA \n",
    "To BUILD AN INTERACTIVE SALES DATA DASHBOARD USING PLOTLY AND DASH IN PYTHON"
   ]
  },
  {
   "cell_type": "markdown",
   "id": "649374bf",
   "metadata": {},
   "source": [
    "The main Goal of this project is to:\n",
    "\n",
    ".Build a dashboard that allows the user (e.g., sales manager) to analyze sales performance interactively:\n",
    "\n",
    ".View sales trends over time\n",
    "\n",
    ".See which regions are performing well\n",
    "\n",
    ".Filter by product, region, date range\n",
    "\n",
    ".View KPIs like total sales, total units sold, and average daily sales"
   ]
  },
  {
   "cell_type": "markdown",
   "id": "e0b3dbc1",
   "metadata": {},
   "source": [
    "# 📁 The Data sets used\n",
    "1. Sales_data.csv :It's a structured record of product sales transactions made by a retail business"
   ]
  },
  {
   "cell_type": "markdown",
   "id": "213636cc",
   "metadata": {},
   "source": [
    "# 🔧 Prerequisites\n",
    "\n",
    ".pip install jupyter-dash dash pandas plotly \n",
    "This command was ran in the Anaconda prompt shell to install the packages needed for this project."
   ]
  },
  {
   "cell_type": "code",
   "execution_count": 22,
   "id": "e4ec7be0",
   "metadata": {},
   "outputs": [
    {
     "data": {
      "text/html": [
       "<div>\n",
       "<style scoped>\n",
       "    .dataframe tbody tr th:only-of-type {\n",
       "        vertical-align: middle;\n",
       "    }\n",
       "\n",
       "    .dataframe tbody tr th {\n",
       "        vertical-align: top;\n",
       "    }\n",
       "\n",
       "    .dataframe thead th {\n",
       "        text-align: right;\n",
       "    }\n",
       "</style>\n",
       "<table border=\"1\" class=\"dataframe\">\n",
       "  <thead>\n",
       "    <tr style=\"text-align: right;\">\n",
       "      <th></th>\n",
       "      <th>Date</th>\n",
       "      <th>Region</th>\n",
       "      <th>Product</th>\n",
       "      <th>Sales</th>\n",
       "      <th>Unit Sold</th>\n",
       "    </tr>\n",
       "  </thead>\n",
       "  <tbody>\n",
       "    <tr>\n",
       "      <th>0</th>\n",
       "      <td>2025-01-01</td>\n",
       "      <td>Northwest</td>\n",
       "      <td>Widget A</td>\n",
       "      <td>2500</td>\n",
       "      <td>50</td>\n",
       "    </tr>\n",
       "    <tr>\n",
       "      <th>1</th>\n",
       "      <td>2025-01-02</td>\n",
       "      <td>Southwest</td>\n",
       "      <td>Gadget X</td>\n",
       "      <td>1800</td>\n",
       "      <td>30</td>\n",
       "    </tr>\n",
       "    <tr>\n",
       "      <th>2</th>\n",
       "      <td>2024-09-06</td>\n",
       "      <td>littoral</td>\n",
       "      <td>Iphone Pro</td>\n",
       "      <td>20000</td>\n",
       "      <td>100</td>\n",
       "    </tr>\n",
       "    <tr>\n",
       "      <th>3</th>\n",
       "      <td>2025-07-01</td>\n",
       "      <td>centre</td>\n",
       "      <td>Samsung</td>\n",
       "      <td>15000</td>\n",
       "      <td>20</td>\n",
       "    </tr>\n",
       "    <tr>\n",
       "      <th>4</th>\n",
       "      <td>2023-05-12</td>\n",
       "      <td>Adamawa</td>\n",
       "      <td>Widget B</td>\n",
       "      <td>34000</td>\n",
       "      <td>60</td>\n",
       "    </tr>\n",
       "  </tbody>\n",
       "</table>\n",
       "</div>"
      ],
      "text/plain": [
       "        Date     Region     Product  Sales  Unit Sold\n",
       "0 2025-01-01  Northwest    Widget A   2500         50\n",
       "1 2025-01-02  Southwest    Gadget X   1800         30\n",
       "2 2024-09-06   littoral  Iphone Pro  20000        100\n",
       "3 2025-07-01     centre     Samsung  15000         20\n",
       "4 2023-05-12    Adamawa    Widget B  34000         60"
      ]
     },
     "execution_count": 22,
     "metadata": {},
     "output_type": "execute_result"
    }
   ],
   "source": [
    "import pandas as pd\n",
    "\n",
    "# Read your sales CSV\n",
    "df = pd.read_csv(\"sales2_data.csv\")\n",
    "df.columns = df.columns.str.strip().str.title()  \n",
    "df['Date'] = pd.to_datetime(df['Date'])\n",
    "df.head()\n"
   ]
  },
  {
   "cell_type": "markdown",
   "id": "531f4208",
   "metadata": {},
   "source": [
    "# 📌 Now i will be setting up the Dashboard using the JupyterDash"
   ]
  },
  {
   "cell_type": "code",
   "execution_count": 28,
   "id": "a79c9724",
   "metadata": {},
   "outputs": [],
   "source": [
    "from dash import Dash, dcc, html, Input, Output\n",
    "import plotly.express as px\n",
    "import pandas as pd\n",
    "\n",
    "# Initialize the app\n",
    "app = Dash(__name__)\n",
    "\n"
   ]
  },
  {
   "cell_type": "markdown",
   "id": "2e15804c",
   "metadata": {},
   "source": [
    "# 🧭 Next Step: Design the Layout\n",
    "Now we need to define what the dashboard looks like — including dropdowns, filters, and graphs."
   ]
  },
  {
   "cell_type": "code",
   "execution_count": 31,
   "id": "5a4ca71f",
   "metadata": {},
   "outputs": [],
   "source": [
    "app.layout = html.Div([\n",
    "    html.H1(\"📊 Sales Dashboard\", style={'textAlign': 'center'}),\n",
    "\n",
    "    html.Div([\n",
    "        html.Label(\"Select Product:\"),\n",
    "        dcc.Dropdown(id='product-filter', options=[], value=None, placeholder=\"All Products\")\n",
    "    ], style={'width': '30%', 'display': 'inline-block'}),\n",
    "\n",
    "    dcc.Graph(id='sales-graph')\n",
    "])\n"
   ]
  },
  {
   "cell_type": "code",
   "execution_count": 32,
   "id": "95b07de3",
   "metadata": {},
   "outputs": [
    {
     "data": {
      "text/html": [
       "\n",
       "        <iframe\n",
       "            width=\"100%\"\n",
       "            height=\"650\"\n",
       "            src=\"http://127.0.0.1:8050/\"\n",
       "            frameborder=\"0\"\n",
       "            allowfullscreen\n",
       "            \n",
       "        ></iframe>\n",
       "        "
      ],
      "text/plain": [
       "<IPython.lib.display.IFrame at 0x2262058df10>"
      ]
     },
     "metadata": {},
     "output_type": "display_data"
    }
   ],
   "source": [
    "app.run(mode='inline')\n"
   ]
  },
  {
   "cell_type": "markdown",
   "id": "6878f123",
   "metadata": {},
   "source": [
    "# ✅Now i will implement the dashboard so it can display the values and their purposes on the graphs"
   ]
  },
  {
   "cell_type": "code",
   "execution_count": 104,
   "id": "ecd0f233",
   "metadata": {},
   "outputs": [],
   "source": [
    "# Prepare product options for dropdown\n",
    "import pandas as pd\n",
    "import plotly.express as px\n",
    "from dash import Dash, dcc, html, Input, Output\n",
    "from dash import Dash\n",
    "\n",
    "# Load data\n",
    "import pandas as pd\n",
    "\n",
    "# Load data and rename columns to standard format\n",
    "df = pd.read_csv(\"sales2_data.csv\", parse_dates=[\"DATE\"])\n",
    "df.rename(columns={\n",
    "    \"DATE\": \"Date\",\n",
    "    \"REGION\": \"Region\",\n",
    "    \"PRODUCT\": \"Product\",\n",
    "    \"SALES\": \"Sales\",\n",
    "    \"UNIT SOLD\": \"Units Sold\"\n",
    "}, inplace=True)\n",
    "\n",
    "# Sort by date just in case\n",
    "df = df.sort_values(\"Date\")\n",
    "\n",
    "\n",
    "# Initialize app\n",
    "# Create the app\n",
    "from dash import Dash\n",
    "app = Dash(__name__)\n",
    "\n",
    "\n",
    "# Layout\n",
    "app.layout = html.Div([\n",
    "    html.H1(\"📊 Sales Dashboard\", style={'textAlign': 'center'}),\n",
    "\n",
    "    html.Div([\n",
    "        html.Div([\n",
    "            html.Label(\"Select Region(s):\"),\n",
    "            dcc.Dropdown(\n",
    "                id='region-filter',\n",
    "                options=[{'label': reg, 'value': reg} for reg in sorted(df['Region'].unique())],\n",
    "                value=sorted(df['Region'].unique()),\n",
    "                multi=True\n",
    "            )\n",
    "        ], style={'width': '30%', 'display': 'inline-block'}),\n",
    "\n",
    "        html.Div([\n",
    "            html.Label(\"Select Product(s):\"),\n",
    "            dcc.Dropdown(\n",
    "                id='product-filter',\n",
    "                options=[{'label': prod, 'value': prod} for prod in sorted(df['Product'].unique())],\n",
    "                value=sorted(df['Product'].unique()),\n",
    "                multi=True\n",
    "            )\n",
    "        ], style={'width': '30%', 'display': 'inline-block', 'marginLeft': '20px'}),\n",
    "\n",
    "        html.Div([\n",
    "            html.Label(\"Select Date Range:\"),\n",
    "            dcc.DatePickerRange(\n",
    "                id='date-filter',\n",
    "                min_date_allowed=df['Date'].min(),\n",
    "                max_date_allowed=df['Date'].max(),\n",
    "                start_date=df['Date'].min(),\n",
    "                end_date=df['Date'].max()\n",
    "            )\n",
    "        ], style={'width': '30%', 'display': 'inline-block', 'marginLeft': '20px'}),\n",
    "    ], style={'marginBottom': '30px'}),\n",
    "\n",
    "    html.Div([\n",
    "        html.Div(id='total-sales', style={'width': '30%', 'display': 'inline-block', 'fontSize': 20}),\n",
    "        html.Div(id='total-units', style={'width': '30%', 'display': 'inline-block', 'fontSize': 20}),\n",
    "        html.Div(id='avg-sales', style={'width': '30%', 'display': 'inline-block', 'fontSize': 20})\n",
    "    ], style={'marginBottom': '30px'}),\n",
    "\n",
    "    dcc.Graph(id='sales-trend'),\n",
    "    dcc.Graph(id='sales-by-region')\n",
    "])\n"
   ]
  },
  {
   "cell_type": "code",
   "execution_count": 105,
   "id": "f8ccd9d3",
   "metadata": {},
   "outputs": [],
   "source": [
    "# Callback\n",
    "@app.callback(\n",
    "    [Output('sales-trend', 'figure'),\n",
    "     Output('sales-by-region', 'figure'),\n",
    "     Output('total-sales', 'children'),\n",
    "     Output('total-units', 'children'),\n",
    "     Output('avg-sales', 'children')],\n",
    "    [Input('region-filter', 'value'),\n",
    "     Input('product-filter', 'value'),\n",
    "     Input('date-filter', 'start_date'),\n",
    "     Input('date-filter', 'end_date')]\n",
    ")\n",
    "def update_dashboard(selected_regions, selected_products, start_date, end_date):\n",
    "    dff = df.copy()\n",
    "\n",
    "    if selected_regions:\n",
    "        dff = dff[dff['Region'].isin(selected_regions)]\n",
    "    if selected_products:\n",
    "        dff = dff[dff['Product'].isin(selected_products)]\n",
    "\n",
    "    dff = dff[(dff['Date'] >= start_date) & (dff['Date'] <= end_date)]\n",
    "\n",
    "    if dff.empty:\n",
    "        return {}, {}, \"💰 Total Sales: XAF0\", \"📦 Units Sold: 0\", \"📈 Avg Daily Sales: XAF0\"\n",
    "\n",
    "    # 📊 Bar chart: Total Sales per Product\n",
    "    product_sales = dff.groupby('Product', as_index=False)['Sales'].sum()\n",
    "    bar_fig = px.bar(\n",
    "        product_sales, x='Product', y='Sales', color='Product',\n",
    "        title='📦 Total Sales per Product',\n",
    "        text_auto=True\n",
    "    )\n",
    "\n",
    "    # 🧩 Pie chart: Sales Distribution by Region\n",
    "    region_sales = dff.groupby('Region', as_index=False)['Sales'].sum()\n",
    "    pie_fig = px.pie(\n",
    "        region_sales, names='Region', values='Sales',\n",
    "        title='🌍 Sales Distribution by Region'\n",
    "    )\n",
    "\n",
    "    # 🔢 KPIs\n",
    "    total_sales = f\"💰 Total Sales: ${dff['Sales'].sum():,.2f}\"\n",
    "    total_units = f\"📦 Units Sold: {dff['Units Sold'].sum()}\"\n",
    "    avg_sales = f\"📈 Avg Daily Sales: ${dff.groupby('Date')['Sales'].sum().mean():,.2f}\"\n",
    "\n",
    "    return bar_fig, pie_fig, total_sales, total_units, avg_sales\n"
   ]
  },
  {
   "cell_type": "code",
   "execution_count": 106,
   "id": "007e4ef9",
   "metadata": {
    "scrolled": true
   },
   "outputs": [
    {
     "data": {
      "text/html": [
       "\n",
       "        <iframe\n",
       "            width=\"100%\"\n",
       "            height=\"650\"\n",
       "            src=\"http://127.0.0.1:8050/\"\n",
       "            frameborder=\"0\"\n",
       "            allowfullscreen\n",
       "            \n",
       "        ></iframe>\n",
       "        "
      ],
      "text/plain": [
       "<IPython.lib.display.IFrame at 0x22625468990>"
      ]
     },
     "metadata": {},
     "output_type": "display_data"
    }
   ],
   "source": [
    "# Run app\n",
    "app.run(mode='inline')\n",
    "\n",
    "\n",
    "\n",
    "\n"
   ]
  },
  {
   "cell_type": "code",
   "execution_count": null,
   "id": "8e6da6a6",
   "metadata": {},
   "outputs": [],
   "source": [
    "\n"
   ]
  },
  {
   "cell_type": "code",
   "execution_count": null,
   "id": "d2adfd8b",
   "metadata": {},
   "outputs": [],
   "source": []
  },
  {
   "cell_type": "code",
   "execution_count": null,
   "id": "e5ee64c9",
   "metadata": {},
   "outputs": [],
   "source": []
  }
 ],
 "metadata": {
  "kernelspec": {
   "display_name": "Python 3 (ipykernel)",
   "language": "python",
   "name": "python3"
  },
  "language_info": {
   "codemirror_mode": {
    "name": "ipython",
    "version": 3
   },
   "file_extension": ".py",
   "mimetype": "text/x-python",
   "name": "python",
   "nbconvert_exporter": "python",
   "pygments_lexer": "ipython3",
   "version": "3.11.5"
  }
 },
 "nbformat": 4,
 "nbformat_minor": 5
}
